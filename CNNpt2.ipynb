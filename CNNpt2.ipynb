{
 "cells": [
  {
   "cell_type": "code",
   "execution_count": 2,
   "metadata": {},
   "outputs": [
    {
     "name": "stdout",
     "output_type": "stream",
     "text": [
      "Train on 22451 samples, validate on 2495 samples\n",
      "Epoch 1/10\n",
      "22451/22451 [==============================] - 7s 296us/sample - loss: 0.6388 - accuracy: 0.6317 - val_loss: 0.5885 - val_accuracy: 0.6906\n",
      "Epoch 2/10\n",
      "22451/22451 [==============================] - 3s 152us/sample - loss: 0.5528 - accuracy: 0.7197 - val_loss: 0.5208 - val_accuracy: 0.7463\n",
      "Epoch 3/10\n",
      "22451/22451 [==============================] - 3s 154us/sample - loss: 0.4965 - accuracy: 0.7604 - val_loss: 0.5082 - val_accuracy: 0.7467\n",
      "Epoch 4/10\n",
      "22451/22451 [==============================] - 3s 154us/sample - loss: 0.4635 - accuracy: 0.7817 - val_loss: 0.4752 - val_accuracy: 0.7731\n",
      "Epoch 5/10\n",
      "22451/22451 [==============================] - 3s 154us/sample - loss: 0.4320 - accuracy: 0.8032 - val_loss: 0.4581 - val_accuracy: 0.7848\n",
      "Epoch 6/10\n",
      "22451/22451 [==============================] - 4s 157us/sample - loss: 0.4038 - accuracy: 0.8160 - val_loss: 0.4626 - val_accuracy: 0.7868\n",
      "Epoch 7/10\n",
      "22451/22451 [==============================] - 4s 162us/sample - loss: 0.3786 - accuracy: 0.8304 - val_loss: 0.4433 - val_accuracy: 0.7936\n",
      "Epoch 8/10\n",
      "22451/22451 [==============================] - 4s 168us/sample - loss: 0.3524 - accuracy: 0.8444 - val_loss: 0.4525 - val_accuracy: 0.7900\n",
      "Epoch 9/10\n",
      "22451/22451 [==============================] - 4s 162us/sample - loss: 0.3350 - accuracy: 0.8530 - val_loss: 0.4560 - val_accuracy: 0.7980\n",
      "Epoch 10/10\n",
      "22451/22451 [==============================] - 4s 163us/sample - loss: 0.3158 - accuracy: 0.8614 - val_loss: 0.4885 - val_accuracy: 0.7800\n"
     ]
    },
    {
     "data": {
      "text/plain": [
       "<tensorflow.python.keras.callbacks.History at 0x2273ec5d7c8>"
      ]
     },
     "execution_count": 2,
     "metadata": {},
     "output_type": "execute_result"
    }
   ],
   "source": [
    "import numpy as np\n",
    "import tensorflow as tf\n",
    "from tensorflow.keras.models import Sequential\n",
    "from tensorflow.keras.layers import Dense, Dropout, Activation, Flatten, Conv2D, MaxPooling2D\n",
    "import pickle\n",
    "\n",
    "# X = pickle.load(open(\"X.pickle\",\"rb\"))\n",
    "# y = pickle.load(open(\"y.pickle\",\"rb\"))\n",
    "\n",
    "X=np.load('features.npy')\n",
    "y=np.load('labels.npy')\n",
    "\n",
    "X = X/255.0\n",
    "\n",
    "model = Sequential()\n",
    "model.add(Conv2D(64, (3,3), input_shape = X.shape[1:]))\n",
    "model.add(Activation(\"relu\"))\n",
    "model.add(MaxPooling2D(pool_size = (2,2)))\n",
    "\n",
    "model.add(Conv2D(64, (3,3)))\n",
    "model.add(Activation(\"relu\"))\n",
    "model.add(MaxPooling2D(pool_size = (2,2))) \n",
    "\n",
    "model.add(Flatten())\n",
    "model.add(Dense(64))\n",
    "model.add(Dense(1))\n",
    "model.add(Activation('sigmoid'))\n",
    "\n",
    "model.compile(loss = 'binary_crossentropy', optimizer = 'adam', metrics = ['accuracy'])\n",
    "          \n",
    "model.fit(X, y, batch_size = 32, epochs = 10, validation_split = 0.1)\n",
    "\n"
   ]
  },
  {
   "cell_type": "code",
   "execution_count": null,
   "metadata": {},
   "outputs": [],
   "source": []
  }
 ],
 "metadata": {
  "kernelspec": {
   "display_name": "gputest",
   "language": "python",
   "name": "gputest"
  },
  "language_info": {
   "codemirror_mode": {
    "name": "ipython",
    "version": 3
   },
   "file_extension": ".py",
   "mimetype": "text/x-python",
   "name": "python",
   "nbconvert_exporter": "python",
   "pygments_lexer": "ipython3",
   "version": "3.7.7"
  }
 },
 "nbformat": 4,
 "nbformat_minor": 4
}
