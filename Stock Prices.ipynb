{
 "cells": [
  {
   "cell_type": "code",
   "execution_count": null,
   "metadata": {},
   "outputs": [],
   "source": [
    "import math\n",
    "import pandas_datareader as web\n",
    "import numpy as np\n",
    "import pandas as pd\n",
    "from sklearn.preprocessing import MinMaxScaler\n",
    "from keras.models import Sequential\n",
    "from keras.layers import Dense,LSTM\n",
    "import matplotlib.pyplot as plt\n",
    "plt.style.use('ggplot')    #graph style"
   ]
  },
  {
   "cell_type": "code",
   "execution_count": 170,
   "metadata": {
    "scrolled": true
   },
   "outputs": [
    {
     "data": {
      "text/html": [
       "<div>\n",
       "<style scoped>\n",
       "    .dataframe tbody tr th:only-of-type {\n",
       "        vertical-align: middle;\n",
       "    }\n",
       "\n",
       "    .dataframe tbody tr th {\n",
       "        vertical-align: top;\n",
       "    }\n",
       "\n",
       "    .dataframe thead th {\n",
       "        text-align: right;\n",
       "    }\n",
       "</style>\n",
       "<table border=\"1\" class=\"dataframe\">\n",
       "  <thead>\n",
       "    <tr style=\"text-align: right;\">\n",
       "      <th></th>\n",
       "      <th>High</th>\n",
       "      <th>Low</th>\n",
       "      <th>Open</th>\n",
       "      <th>Close</th>\n",
       "      <th>Volume</th>\n",
       "      <th>Adj Close</th>\n",
       "    </tr>\n",
       "    <tr>\n",
       "      <th>Date</th>\n",
       "      <th></th>\n",
       "      <th></th>\n",
       "      <th></th>\n",
       "      <th></th>\n",
       "      <th></th>\n",
       "      <th></th>\n",
       "    </tr>\n",
       "  </thead>\n",
       "  <tbody>\n",
       "    <tr>\n",
       "      <td>2014-12-31</td>\n",
       "      <td>312.980011</td>\n",
       "      <td>310.010010</td>\n",
       "      <td>311.549988</td>\n",
       "      <td>310.350006</td>\n",
       "      <td>2048000</td>\n",
       "      <td>310.350006</td>\n",
       "    </tr>\n",
       "    <tr>\n",
       "      <td>2015-01-02</td>\n",
       "      <td>314.750000</td>\n",
       "      <td>306.959991</td>\n",
       "      <td>312.579987</td>\n",
       "      <td>308.519989</td>\n",
       "      <td>2783200</td>\n",
       "      <td>308.519989</td>\n",
       "    </tr>\n",
       "    <tr>\n",
       "      <td>2015-01-05</td>\n",
       "      <td>308.380005</td>\n",
       "      <td>300.850006</td>\n",
       "      <td>307.010010</td>\n",
       "      <td>302.190002</td>\n",
       "      <td>2774200</td>\n",
       "      <td>302.190002</td>\n",
       "    </tr>\n",
       "    <tr>\n",
       "      <td>2015-01-06</td>\n",
       "      <td>303.000000</td>\n",
       "      <td>292.380005</td>\n",
       "      <td>302.239990</td>\n",
       "      <td>295.290009</td>\n",
       "      <td>3519000</td>\n",
       "      <td>295.290009</td>\n",
       "    </tr>\n",
       "    <tr>\n",
       "      <td>2015-01-07</td>\n",
       "      <td>301.279999</td>\n",
       "      <td>295.329987</td>\n",
       "      <td>297.500000</td>\n",
       "      <td>298.420013</td>\n",
       "      <td>2640300</td>\n",
       "      <td>298.420013</td>\n",
       "    </tr>\n",
       "    <tr>\n",
       "      <td>...</td>\n",
       "      <td>...</td>\n",
       "      <td>...</td>\n",
       "      <td>...</td>\n",
       "      <td>...</td>\n",
       "      <td>...</td>\n",
       "      <td>...</td>\n",
       "    </tr>\n",
       "    <tr>\n",
       "      <td>2019-12-23</td>\n",
       "      <td>1793.000000</td>\n",
       "      <td>1784.510010</td>\n",
       "      <td>1788.260010</td>\n",
       "      <td>1793.000000</td>\n",
       "      <td>2136400</td>\n",
       "      <td>1793.000000</td>\n",
       "    </tr>\n",
       "    <tr>\n",
       "      <td>2019-12-24</td>\n",
       "      <td>1795.569946</td>\n",
       "      <td>1787.579956</td>\n",
       "      <td>1793.810059</td>\n",
       "      <td>1789.209961</td>\n",
       "      <td>881300</td>\n",
       "      <td>1789.209961</td>\n",
       "    </tr>\n",
       "    <tr>\n",
       "      <td>2019-12-26</td>\n",
       "      <td>1870.459961</td>\n",
       "      <td>1799.500000</td>\n",
       "      <td>1801.010010</td>\n",
       "      <td>1868.770020</td>\n",
       "      <td>6005400</td>\n",
       "      <td>1868.770020</td>\n",
       "    </tr>\n",
       "    <tr>\n",
       "      <td>2019-12-27</td>\n",
       "      <td>1901.400024</td>\n",
       "      <td>1866.010010</td>\n",
       "      <td>1882.920044</td>\n",
       "      <td>1869.800049</td>\n",
       "      <td>6186600</td>\n",
       "      <td>1869.800049</td>\n",
       "    </tr>\n",
       "    <tr>\n",
       "      <td>2019-12-30</td>\n",
       "      <td>1884.000000</td>\n",
       "      <td>1840.619995</td>\n",
       "      <td>1874.000000</td>\n",
       "      <td>1846.890015</td>\n",
       "      <td>3674700</td>\n",
       "      <td>1846.890015</td>\n",
       "    </tr>\n",
       "  </tbody>\n",
       "</table>\n",
       "<p>1258 rows × 6 columns</p>\n",
       "</div>"
      ],
      "text/plain": [
       "                   High          Low         Open        Close   Volume  \\\n",
       "Date                                                                      \n",
       "2014-12-31   312.980011   310.010010   311.549988   310.350006  2048000   \n",
       "2015-01-02   314.750000   306.959991   312.579987   308.519989  2783200   \n",
       "2015-01-05   308.380005   300.850006   307.010010   302.190002  2774200   \n",
       "2015-01-06   303.000000   292.380005   302.239990   295.290009  3519000   \n",
       "2015-01-07   301.279999   295.329987   297.500000   298.420013  2640300   \n",
       "...                 ...          ...          ...          ...      ...   \n",
       "2019-12-23  1793.000000  1784.510010  1788.260010  1793.000000  2136400   \n",
       "2019-12-24  1795.569946  1787.579956  1793.810059  1789.209961   881300   \n",
       "2019-12-26  1870.459961  1799.500000  1801.010010  1868.770020  6005400   \n",
       "2019-12-27  1901.400024  1866.010010  1882.920044  1869.800049  6186600   \n",
       "2019-12-30  1884.000000  1840.619995  1874.000000  1846.890015  3674700   \n",
       "\n",
       "              Adj Close  \n",
       "Date                     \n",
       "2014-12-31   310.350006  \n",
       "2015-01-02   308.519989  \n",
       "2015-01-05   302.190002  \n",
       "2015-01-06   295.290009  \n",
       "2015-01-07   298.420013  \n",
       "...                 ...  \n",
       "2019-12-23  1793.000000  \n",
       "2019-12-24  1789.209961  \n",
       "2019-12-26  1868.770020  \n",
       "2019-12-27  1869.800049  \n",
       "2019-12-30  1846.890015  \n",
       "\n",
       "[1258 rows x 6 columns]"
      ]
     },
     "execution_count": 170,
     "metadata": {},
     "output_type": "execute_result"
    }
   ],
   "source": [
    "# getting data from source\n",
    "df = web.DataReader('AMZN', data_source = 'yahoo', start = '2015-01-01', end = '2019-12-30')\n",
    "df\n"
   ]
  },
  {
   "cell_type": "code",
   "execution_count": 171,
   "metadata": {
    "scrolled": true
   },
   "outputs": [
    {
     "data": {
      "image/png": "[encoded data removed]",
      "text/plain": [
       "<Figure size 1152x576 with 1 Axes>"
      ]
     },
     "metadata": {},
     "output_type": "display_data"
    }
   ],
   "source": [
    "# plotting graph\n",
    "plt.figure(figsize=(16,8))\n",
    "plt.title('Close Price History')\n",
    "plt.plot(df['Close'])  #plotting close price column\n",
    "plt.xlabel('Date', fontsize = 18)\n",
    "plt.ylabel('Close Prices', fontsize = 18)\n",
    "plt.show() "
   ]
  },
  {
   "cell_type": "code",
   "execution_count": 174,
   "metadata": {},
   "outputs": [
    {
     "data": {
      "text/plain": [
       "1007"
      ]
     },
     "execution_count": 174,
     "metadata": {},
     "output_type": "execute_result"
    }
   ],
   "source": [
    "data = df.filter(['Close'])  #filtering only close price column\n",
    "dataset = data.values   #converting to numpy array\n",
    "training_data_len =  math.ceil(len(dataset) * 0.8)  #using 80% of the data\n",
    "training_data_len\n"
   ]
  },
  {
   "cell_type": "code",
   "execution_count": 173,
   "metadata": {},
   "outputs": [
    {
     "data": {
      "text/plain": [
       "array([[0.01335189],\n",
       "       [0.0123077 ],\n",
       "       [0.00869585],\n",
       "       ...,\n",
       "       [0.90257681],\n",
       "       [0.90316454],\n",
       "       [0.89009221]])"
      ]
     },
     "execution_count": 173,
     "metadata": {},
     "output_type": "execute_result"
    }
   ],
   "source": [
    "#scaling the data\n",
    "scaler = MinMaxScaler(feature_range=(0,1))   #converts all the values b/w 0 and 1\n",
    "scaled_data = scaler.fit_transform(dataset)\n",
    "scaled_data"
   ]
  },
  {
   "cell_type": "code",
   "execution_count": 172,
   "metadata": {
    "scrolled": true
   },
   "outputs": [
    {
     "name": "stdout",
     "output_type": "stream",
     "text": [
      "[array([0.01335189, 0.0123077 , 0.00869585, 0.00475875, 0.00654471,\n",
      "       0.00770871, 0.00569452, 0.00254484, 0.00444491, 0.00360614,\n",
      "       0.        , 0.00216254, 0.00142077, 0.00587711, 0.01333478,\n",
      "       0.01451591, 0.01295818, 0.01129775, 0.00967727, 0.01416784,\n",
      "       0.03856073, 0.04423243, 0.04370748, 0.0443922 , 0.04960743,\n",
      "       0.04982996, 0.04770735, 0.0490996 , 0.05032068, 0.05147898,\n",
      "       0.05413793, 0.05048613, 0.04931071, 0.05252316, 0.05518213,\n",
      "       0.05317364, 0.05228921, 0.05615784, 0.0558326 , 0.05318505,\n",
      "       0.05632332, 0.05572418, 0.05464577, 0.0575615 , 0.0531451 ,\n",
      "       0.0522721 , 0.04710823, 0.04531656, 0.04980713, 0.04771875,\n",
      "       0.04929931, 0.04848336, 0.05032068, 0.04923653, 0.05223215,\n",
      "       0.05030354, 0.04972154, 0.04793558, 0.04587574, 0.04770735])]\n",
      "[0.05000683814131693]\n",
      "\n"
     ]
    }
   ],
   "source": [
    "train_data = scaled_data[0:training_data_len, :]  #creating scaled training dataset\n",
    "x_train = []\n",
    "y_train = []\n",
    "\n",
    "for i in range(60,len(train_data)):   #splitting data into 2 datasets \n",
    "    x_train.append(train_data[i-60:i, 0])\n",
    "    y_train.append(train_data[i, 0])  \n",
    "    if i<=60:\n",
    "        print(x_train)\n",
    "        print(y_train)\n",
    "        print()\n",
    "    "
   ]
  },
  {
   "cell_type": "code",
   "execution_count": 144,
   "metadata": {},
   "outputs": [],
   "source": [
    "x_train, y_train = np.array(x_train), np.array(y_train)   #convert to numpy array"
   ]
  },
  {
   "cell_type": "code",
   "execution_count": 145,
   "metadata": {},
   "outputs": [
    {
     "data": {
      "text/plain": [
       "(947, 60, 1)"
      ]
     },
     "execution_count": 145,
     "metadata": {},
     "output_type": "execute_result"
    }
   ],
   "source": [
    "x_train = np.reshape(x_train, (x_train.shape[0], x_train.shape[1], 1))\n",
    "x_train.shape"
   ]
  },
  {
   "cell_type": "code",
   "execution_count": 146,
   "metadata": {},
   "outputs": [],
   "source": [
    "#building the LSTM\n",
    "model = Sequential()\n",
    "model.add(LSTM(50, return_sequences = True, input_shape = (x_train.shape[1], 1)))\n",
    "model.add(LSTM(50, return_sequences = False))\n",
    "model.add(Dense(25))\n",
    "model.add(Dense(1))\n"
   ]
  },
  {
   "cell_type": "code",
   "execution_count": 147,
   "metadata": {},
   "outputs": [],
   "source": [
    "model.compile(optimizer = 'adam' , loss ='mean_squared_error' )"
   ]
  },
  {
   "cell_type": "code",
   "execution_count": null,
   "metadata": {},
   "outputs": [
    {
     "name": "stdout",
     "output_type": "stream",
     "text": [
      "Epoch 1/1\n",
      "158/947 [====>.........................] - ETA: 1:38 - loss: 0.0072"
     ]
    }
   ],
   "source": [
    "model.fit(x_train, y_train, batch_size = 1, epochs = 1)"
   ]
  },
  {
   "cell_type": "code",
   "execution_count": null,
   "metadata": {},
   "outputs": [],
   "source": [
    "#testing dataset\n",
    "test_data = scaled_data[training_data_len - 60: , :]\n",
    "#create data sets\n",
    "x_test = []\n",
    "y_test = dataset[training_data_len: , :]\n",
    "for i in range(60, len(test_data)):\n",
    "    x_test.append(test_data[i-60:i,0])\n",
    "\n"
   ]
  },
  {
   "cell_type": "code",
   "execution_count": null,
   "metadata": {},
   "outputs": [],
   "source": [
    "x_test = np.array(x_test)    #convert to numpy\n"
   ]
  },
  {
   "cell_type": "code",
   "execution_count": null,
   "metadata": {},
   "outputs": [],
   "source": [
    "x_test = np.reshape(x_test, (x_test.shape[0], x_test.shape[1], 1 ))   #reshape data"
   ]
  },
  {
   "cell_type": "code",
   "execution_count": null,
   "metadata": {},
   "outputs": [],
   "source": [
    "#get predicted values\n",
    "predictions = model.predict(x_test)\n",
    "predictions = scaler.inverse_transform(predictions)"
   ]
  },
  {
   "cell_type": "code",
   "execution_count": null,
   "metadata": {},
   "outputs": [],
   "source": [
    "#get root mean squared error(to check performance)\n",
    "rmse = np.sqrt( np.mean(predictions - y_test)**2 )\n",
    "rmse\n"
   ]
  },
  {
   "cell_type": "code",
   "execution_count": null,
   "metadata": {},
   "outputs": [],
   "source": [
    "#plot\n",
    "train = data[:training_data_len]\n",
    "valid = data[training_data_len:]\n",
    "valid['Predictions'] = predictions\n",
    "plt.figure(figsize=(16,8))\n",
    "plt.title('Model')\n",
    "plt.xlabel('Date', fontsize = 18)\n",
    "plt.ylabel('Close Price', fontsize = 18)\n",
    "plt.plot(train['Close'])\n",
    "plt.plot(valid[['Close', 'Predictions']])\n",
    "plt.legend(['Train', 'val', 'predictions'],loc = 'lower right')\n",
    "plt.show()"
   ]
  },
  {
   "cell_type": "code",
   "execution_count": null,
   "metadata": {},
   "outputs": [],
   "source": [
    "#show valid and predicted prices\n",
    "valid"
   ]
  },
  {
   "cell_type": "code",
   "execution_count": 175,
   "metadata": {},
   "outputs": [
    {
     "name": "stdout",
     "output_type": "stream",
     "text": [
      "[[2028.1727]]\n"
     ]
    }
   ],
   "source": [
    "ap_ple = web.DataReader('AMZN', data_source = 'yahoo', start = '2015-01-01', end ='2020-02-15')\n",
    "new_df = ap_ple.filter(['Close'])\n",
    "#get last 60 day cp\n",
    "last_60 = new_df[-60:].values   #converting to array\n",
    "#scale data\n",
    "last_60_scaled = scaler.transform(last_60)\n",
    "#create empty lest\n",
    "X_test = []\n",
    "#append past 60 to X_test\n",
    "X_test.append(last_60_scaled)\n",
    "#convert to numpy\n",
    "X_test = np.array(X_test)\n",
    "#reshape\n",
    "X_test = np.reshape(X_test, (X_test.shape[0], X_test.shape[1], 1))\n",
    "#predicted scale price\n",
    "pred_price = model.predict(X_test)\n",
    "#undo scaling\n",
    "pred_price = scaler.inverse_transform(pred_price)\n",
    "print(pred_price)"
   ]
  },
  {
   "cell_type": "code",
   "execution_count": 176,
   "metadata": {},
   "outputs": [
    {
     "name": "stdout",
     "output_type": "stream",
     "text": [
      "Date\n",
      "2020-02-11    2150.800049\n",
      "2020-02-12    2160.000000\n",
      "Name: Close, dtype: float64\n"
     ]
    }
   ],
   "source": [
    "ap_ple2 = web.DataReader('AMZN', data_source = 'yahoo', start = '2020-02-12', end ='2020-02-12')\n",
    "print(ap_ple2['Close'])"
   ]
  },
  {
   "cell_type": "code",
   "execution_count": null,
   "metadata": {},
   "outputs": [],
   "source": []
  }
 ],
 "metadata": {
  "kernelspec": {
   "display_name": "Python 3",
   "language": "python",
   "name": "python3"
  },
  "language_info": {
   "codemirror_mode": {
    "name": "ipython",
    "version": 3
   },
   "file_extension": ".py",
   "mimetype": "text/x-python",
   "name": "python",
   "nbconvert_exporter": "python",
   "pygments_lexer": "ipython3",
   "version": "3.7.4"
  }
 },
 "nbformat": 4,
 "nbformat_minor": 2
}
